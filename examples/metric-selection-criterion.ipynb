{
 "cells": [
  {
   "cell_type": "markdown",
   "metadata": {},
   "source": [
    "# Mass matrix selection criterion"
   ]
  },
  {
   "cell_type": "code",
   "execution_count": 1,
   "metadata": {},
   "outputs": [],
   "source": [
    "from sklearn import covariance\n",
    "import numpy as np\n",
    "import matplotlib.pyplot as plt\n",
    "import seaborn as sns\n",
    "from scipy import linalg, stats"
   ]
  },
  {
   "cell_type": "code",
   "execution_count": 2,
   "metadata": {},
   "outputs": [],
   "source": [
    "np.random.seed(42)"
   ]
  },
  {
   "cell_type": "code",
   "execution_count": 3,
   "metadata": {},
   "outputs": [],
   "source": [
    "N = 10_000\n",
    "M = 200\n",
    "\n",
    "# Generate training and test samples.\n",
    "# The true eigenvalues are (n - 1) times 1 and 1 times `scale ** 2`\n",
    "\n",
    "def transform(samples, direction, scale):\n",
    "    samples_ = samples.copy()\n",
    "    samples_[...] += (samples @ direction)[:, None] * (direction * (scale - 1))\n",
    "    return samples_\n",
    "\n",
    "direction = np.random.randn(N)\n",
    "direction[...] /= linalg.norm(direction)\n",
    "\n",
    "scale = 2\n",
    "\n",
    "train, test = np.random.randn(2, M, N)\n",
    "train = transform(train, direction, scale)\n",
    "test = transform(test, direction, scale)"
   ]
  },
  {
   "cell_type": "markdown",
   "metadata": {},
   "source": [
    "We now assume that we were able to extract the direction and scale exactly from train.\n",
    "\n",
    "So we reverse-transform our test samples:"
   ]
  },
  {
   "cell_type": "code",
   "execution_count": 4,
   "metadata": {},
   "outputs": [],
   "source": [
    "test_trafo = transform(test, direction, 1 / scale)"
   ]
  },
  {
   "cell_type": "markdown",
   "metadata": {},
   "source": [
    "We now test three different measures for how good our transformation is."
   ]
  },
  {
   "cell_type": "markdown",
   "metadata": {},
   "source": [
    "### Ledoit-Wolf based max_min eigenvalue selection criterion"
   ]
  },
  {
   "cell_type": "code",
   "execution_count": 5,
   "metadata": {},
   "outputs": [],
   "source": [
    "test_cov_lw, _ = covariance.ledoit_wolf(test)\n",
    "test_trafo_cov_lw, _ = covariance.ledoit_wolf(test_trafo)"
   ]
  },
  {
   "cell_type": "code",
   "execution_count": 6,
   "metadata": {},
   "outputs": [
    {
     "data": {
      "text/plain": [
       "(1.285992620208809, 1.2851403862853168, 1.0006631446125163)"
      ]
     },
     "execution_count": 6,
     "metadata": {},
     "output_type": "execute_result"
    }
   ],
   "source": [
    "pre_trafo = np.sqrt(linalg.eigvalsh(test_cov_lw)[-1])\n",
    "post_trafo = np.sqrt(linalg.eigvalsh(test_trafo_cov_lw)[-1])\n",
    "pre_trafo, post_trafo, pre_trafo / post_trafo"
   ]
  },
  {
   "cell_type": "markdown",
   "metadata": {},
   "source": [
    "It reports a very small improvement, but nowhere near the actual value (2).\n",
    "\n",
    "The absolute estimate is wrong, the true values are 2 and 1."
   ]
  },
  {
   "cell_type": "markdown",
   "metadata": {},
   "source": [
    "### Empirical covariance based max eigenvalue criterion\n",
    "\n",
    "This is pretty much the one from the paper, assuming that the minimum eigenvalue is the same for both."
   ]
  },
  {
   "cell_type": "code",
   "execution_count": 7,
   "metadata": {},
   "outputs": [],
   "source": [
    "test_cov_eigs = linalg.svdvals(test) ** 2 / M\n",
    "test_trafo_eigs = linalg.svdvals(test_trafo) ** 2 / M"
   ]
  },
  {
   "cell_type": "code",
   "execution_count": 8,
   "metadata": {},
   "outputs": [
    {
     "data": {
      "text/plain": [
       "(8.064307738438346, 8.060219778530083, 1.0005071772260048)"
      ]
     },
     "execution_count": 8,
     "metadata": {},
     "output_type": "execute_result"
    }
   ],
   "source": [
    "pre_trafo = np.sqrt(test_cov_eigs[0])\n",
    "post_trafo = np.sqrt(test_trafo_eigs[0])\n",
    "pre_trafo, post_trafo, pre_trafo / post_trafo"
   ]
  },
  {
   "cell_type": "markdown",
   "metadata": {},
   "source": [
    "This also reports a very small improvement, but again not the true value.\n",
    "\n",
    "The absolute values are *way* off."
   ]
  },
  {
   "cell_type": "markdown",
   "metadata": {},
   "source": [
    "### Variance estimate in proposed direction"
   ]
  },
  {
   "cell_type": "code",
   "execution_count": 9,
   "metadata": {},
   "outputs": [
    {
     "data": {
      "text/plain": [
       "2.130233813640912"
      ]
     },
     "execution_count": 9,
     "metadata": {},
     "output_type": "execute_result"
    }
   ],
   "source": [
    "np.sqrt(direction @ test.T @ test @ direction / M)"
   ]
  },
  {
   "cell_type": "markdown",
   "metadata": {},
   "source": [
    "This correctly tells us that the variance along the direction that was proposed to transform was ~2 as expected."
   ]
  }
 ],
 "metadata": {
  "kernelspec": {
   "display_name": "Python (pymc)",
   "language": "python",
   "name": "pymc"
  },
  "language_info": {
   "codemirror_mode": {
    "name": "ipython",
    "version": 3
   },
   "file_extension": ".py",
   "mimetype": "text/x-python",
   "name": "python",
   "nbconvert_exporter": "python",
   "pygments_lexer": "ipython3",
   "version": "3.7.3"
  }
 },
 "nbformat": 4,
 "nbformat_minor": 4
}
