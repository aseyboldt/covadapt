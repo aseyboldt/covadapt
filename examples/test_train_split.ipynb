{
 "cells": [
  {
   "cell_type": "markdown",
   "metadata": {},
   "source": [
    "Find eigenvalues of test-data in subspace defined by eigenvector estimates of the training data."
   ]
  },
  {
   "cell_type": "code",
   "execution_count": 1,
   "metadata": {},
   "outputs": [],
   "source": [
    "from sklearn import covariance\n",
    "import numpy as np\n",
    "import matplotlib.pyplot as plt\n",
    "import seaborn as sns\n",
    "from scipy import linalg, stats"
   ]
  },
  {
   "cell_type": "code",
   "execution_count": 2,
   "metadata": {},
   "outputs": [],
   "source": [
    "np.random.seed(1234)"
   ]
  },
  {
   "cell_type": "code",
   "execution_count": 3,
   "metadata": {},
   "outputs": [],
   "source": [
    "# Simulate some data\n",
    "\n",
    "ndim = 1_000\n",
    "nwindow = 300\n",
    "ntrain = 200\n",
    "ntest = nwindow - ntrain\n",
    "\n",
    "n_eigs = 300\n",
    "n_approx = 30\n",
    "\n",
    "def transform(samples, vecs, vals):\n",
    "    return samples + (samples @ vecs.T) @ (vecs * (np.sqrt(vals) - 1)[:, None])\n",
    "\n",
    "\n",
    "# Generate true eigenvectors that are somewhat sparse\n",
    "true_eigvecs = np.random.randn(n_eigs, ndim) ** 5\n",
    "true_eigvecs[...] /= linalg.norm(true_eigvecs, axis=-1)[:, None]\n",
    "true_eigvecs, _ = linalg.qr(true_eigvecs.T, mode='economic')\n",
    "true_eigvecs = true_eigvecs.T\n",
    "\n",
    "# The true eigenvalues of those eigenvectors\n",
    "#true_eigvals = np.array([10, 5, 0.1]) ** 2\n",
    "true_eigvals = np.exp(2 * np.random.randn(n_eigs))\n",
    "true_eigvals.sort()\n",
    "\n",
    "# Generate data accordingly\n",
    "window_samples = np.random.randn(nwindow, ndim)\n",
    "window_samples = transform(window_samples, true_eigvecs, true_eigvals)\n",
    "\n",
    "window_grads = np.random.randn(nwindow, ndim)\n",
    "window_grads = transform(window_grads, true_eigvecs, 1 / true_eigvals)\n",
    "\n",
    "stds = window_samples.std(0)\n",
    "mean = window_samples.mean(0)\n",
    "window_samples[...] -= mean[None, :]\n",
    "window_samples[...] /= stds[None, :]\n",
    "window_grads[...] *= stds[None, :]\n",
    "\n",
    "train_samples = window_samples[:ntrain]\n",
    "test_samples = window_samples[ntrain:]\n",
    "\n",
    "train_grads = window_grads[:ntrain]\n",
    "test_grads = window_grads[ntrain:]"
   ]
  },
  {
   "cell_type": "code",
   "execution_count": 4,
   "metadata": {},
   "outputs": [
    {
     "data": {
      "text/plain": [
       "[<matplotlib.lines.Line2D at 0x7f7869a8c4a8>]"
      ]
     },
     "execution_count": 4,
     "metadata": {},
     "output_type": "execute_result"
    },
    {
     "data": {
      "image/png": "[encoded data removed]",
      "text/plain": [
       "<Figure size 432x288 with 1 Axes>"
      ]
     },
     "metadata": {
      "needs_background": "light"
     },
     "output_type": "display_data"
    }
   ],
   "source": [
    "plt.plot(np.log(true_eigvals))  # Plus ndim - n_eigs times 1"
   ]
  },
  {
   "cell_type": "code",
   "execution_count": 5,
   "metadata": {},
   "outputs": [],
   "source": [
    "def coveigs_lw(samples, grads, n_eigs):\n",
    "    \"\"\"Return eigenvalue and eigenvector estimates.\n",
    "    \n",
    "    A real implementation should not store the matrix\n",
    "    for large n.\n",
    "    \"\"\"\n",
    "    eigvals = []\n",
    "    eigvecs = []\n",
    "    \n",
    "    cov_samples, _ = covariance.ledoit_wolf(samples)\n",
    "    S, V = linalg.eigh(cov_samples)\n",
    "    eigvals.extend(S[::-1][:n_eigs // 2])\n",
    "    eigvecs.extend(V.T[::-1][:n_eigs // 2])\n",
    "    \n",
    "    cov_grads, _ = covariance.ledoit_wolf(grads)\n",
    "    S, V = linalg.eigh(cov_grads)\n",
    "    eigvals.extend(1 / S[::-1][:n_eigs // 2])\n",
    "    eigvecs.extend(V.T[::-1][:n_eigs // 2])\n",
    "    \n",
    "    return eigvals, eigvecs"
   ]
  },
  {
   "cell_type": "code",
   "execution_count": 6,
   "metadata": {},
   "outputs": [
    {
     "data": {
      "text/plain": [
       "[24.85558186311649,\n",
       " 19.55951023256052,\n",
       " 16.526173332304168,\n",
       " 14.610424336632477,\n",
       " 11.457608514034783,\n",
       " 11.096850022203252,\n",
       " 10.250475943575722,\n",
       " 9.848575880940512,\n",
       " 9.531650974375772,\n",
       " 9.303444431124746,\n",
       " 8.851382577867072,\n",
       " 8.330312361201791,\n",
       " 8.126213640178975,\n",
       " 7.613188265027465,\n",
       " 7.100485816435422,\n",
       " 0.0032239062024630857,\n",
       " 0.003801400241513616,\n",
       " 0.004163330626530426,\n",
       " 0.005001471683562453,\n",
       " 0.0053034702290067695,\n",
       " 0.007720532120343102,\n",
       " 0.00844242149759962,\n",
       " 0.009603762117668582,\n",
       " 0.010801044507738397,\n",
       " 0.012308541584426033,\n",
       " 0.01242754715822388,\n",
       " 0.0136865053946702,\n",
       " 0.014407209993533975,\n",
       " 0.014904209921506083,\n",
       " 0.0160885042111894]"
      ]
     },
     "execution_count": 6,
     "metadata": {},
     "output_type": "execute_result"
    }
   ],
   "source": [
    "# Use the train data to get (not necessarily orthogonal)\n",
    "# estimates for the eigenvectors and eigenvalues.\n",
    "vals, vecs = coveigs_lw(train_samples, train_grads, n_approx)\n",
    "vals"
   ]
  },
  {
   "cell_type": "code",
   "execution_count": 7,
   "metadata": {},
   "outputs": [],
   "source": [
    "# Filter out eigenvalues close to 1.\n",
    "# After this step we do not use the eigenvalues anymore,\n",
    "# but only the eigenvectors\n",
    "vals, vecs = zip(*\n",
    "    (\n",
    "        (val, vec) for val, vec in zip(vals, vecs)\n",
    "        if np.abs(np.log(val)) > 0.4\n",
    "    )\n",
    ")\n",
    "vals = np.array(vals)\n",
    "vecs = np.array(vecs)"
   ]
  },
  {
   "cell_type": "code",
   "execution_count": 8,
   "metadata": {},
   "outputs": [
    {
     "data": {
      "text/plain": [
       "[<matplotlib.lines.Line2D at 0x7f786999fbe0>]"
      ]
     },
     "execution_count": 8,
     "metadata": {},
     "output_type": "execute_result"
    },
    {
     "data": {
      "image/png": "[encoded data removed]",
      "text/plain": [
       "<Figure size 432x288 with 1 Axes>"
      ]
     },
     "metadata": {
      "needs_background": "light"
     },
     "output_type": "display_data"
    }
   ],
   "source": [
    "plt.plot(np.log(vals))"
   ]
  },
  {
   "cell_type": "code",
   "execution_count": 9,
   "metadata": {},
   "outputs": [],
   "source": [
    "# Find a orthogonal basis for the subspace spanned\n",
    "# by the eigenvectors.\n",
    "_, S, V = linalg.svd(vecs, full_matrices=False)\n",
    "vecs = V[S > 0.95]\n",
    "vals = vals[S > 0.95]"
   ]
  },
  {
   "cell_type": "code",
   "execution_count": 10,
   "metadata": {},
   "outputs": [],
   "source": [
    "# Project the test samples into this space\n",
    "projected_test_samples = test_samples @ vecs.T"
   ]
  },
  {
   "cell_type": "code",
   "execution_count": 11,
   "metadata": {},
   "outputs": [
    {
     "data": {
      "text/plain": [
       "(100, 30)"
      ]
     },
     "execution_count": 11,
     "metadata": {},
     "output_type": "execute_result"
    }
   ],
   "source": [
    "projected_test_samples.shape  # (n_samples, n_dims)"
   ]
  },
  {
   "cell_type": "code",
   "execution_count": 12,
   "metadata": {},
   "outputs": [],
   "source": [
    "# Find the eigenvalues and eigenvectors of the test\n",
    "# samples in this low-dimensional space.\n",
    "_, svd, inner_eigvals = linalg.svd(projected_test_samples, full_matrices=False)\n",
    "test_eigvals = svd ** 2 / ntest"
   ]
  },
  {
   "cell_type": "code",
   "execution_count": 13,
   "metadata": {},
   "outputs": [
    {
     "data": {
      "text/plain": [
       "[<matplotlib.lines.Line2D at 0x7f7869907ef0>]"
      ]
     },
     "execution_count": 13,
     "metadata": {},
     "output_type": "execute_result"
    },
    {
     "data": {
      "image/png": "[encoded data removed]",
      "text/plain": [
       "<Figure size 432x288 with 1 Axes>"
      ]
     },
     "metadata": {
      "needs_background": "light"
     },
     "output_type": "display_data"
    }
   ],
   "source": [
    "plt.plot(np.log(test_eigvals))"
   ]
  },
  {
   "cell_type": "code",
   "execution_count": 14,
   "metadata": {},
   "outputs": [],
   "source": [
    "# Project the eigenvalues in the small space back to the\n",
    "# original space.\n",
    "test_eigvecs = inner_eigvals @ vecs"
   ]
  },
  {
   "cell_type": "code",
   "execution_count": 15,
   "metadata": {},
   "outputs": [],
   "source": [
    "# Filter out eigenvalues close to 1\n",
    "test_eigvals, test_eigvecs = zip(*(\n",
    "    (val, vec) for val, vec in zip(test_eigvals, test_eigvecs)\n",
    "    if np.abs(np.log(val)) > 0.4)\n",
    ")"
   ]
  },
  {
   "cell_type": "code",
   "execution_count": 16,
   "metadata": {},
   "outputs": [],
   "source": [
    "test_eigvals = np.array(test_eigvals)\n",
    "test_eigvecs = np.array(test_eigvecs)"
   ]
  },
  {
   "cell_type": "code",
   "execution_count": 17,
   "metadata": {},
   "outputs": [
    {
     "data": {
      "text/plain": [
       "[<matplotlib.lines.Line2D at 0x7f78698f8710>]"
      ]
     },
     "execution_count": 17,
     "metadata": {},
     "output_type": "execute_result"
    },
    {
     "data": {
      "image/png": "[encoded data removed]",
      "text/plain": [
       "<Figure size 432x288 with 1 Axes>"
      ]
     },
     "metadata": {
      "needs_background": "light"
     },
     "output_type": "display_data"
    }
   ],
   "source": [
    "plt.plot(np.log(test_eigvals))"
   ]
  },
  {
   "cell_type": "markdown",
   "metadata": {},
   "source": [
    "Now we can use test_eigvals and test_eigvecs for sampling"
   ]
  },
  {
   "cell_type": "markdown",
   "metadata": {},
   "source": [
    "#### Compare different mass matrix approximations"
   ]
  },
  {
   "cell_type": "code",
   "execution_count": 18,
   "metadata": {},
   "outputs": [],
   "source": [
    "# The true posterior covariance\n",
    "true_cov = np.eye(ndim) + true_eigvecs.T @ np.diag(true_eigvals - 1) @ true_eigvecs\n",
    "diag = np.diag(true_cov)\n",
    "true_corr = true_cov.copy()\n",
    "true_corr[...] /= np.sqrt(diag)[None, :]\n",
    "true_corr[...] /= np.sqrt(diag)[:, None]\n",
    "\n",
    "# The covariance we estimated with the eigenvectors above\n",
    "approx_cov = np.eye(ndim) + test_eigvecs.T @ np.diag(test_eigvals - 1) @ test_eigvecs\n",
    "approx_cov[...] *= stds[None, :]\n",
    "approx_cov[...] *= stds[:, None]"
   ]
  },
  {
   "cell_type": "code",
   "execution_count": 19,
   "metadata": {},
   "outputs": [],
   "source": [
    "# A ledoit wolf covariance estimate of _all_ samples in the window\n",
    "cov_lw, _ = covariance.ledoit_wolf(window_samples)\n",
    "cov_lw[...] *= stds[None, :]\n",
    "cov_lw[...] *= stds[:, None]"
   ]
  },
  {
   "cell_type": "code",
   "execution_count": 20,
   "metadata": {},
   "outputs": [],
   "source": [
    "def condition_number(cov, true_cov):\n",
    "    eigs = linalg.eigvalsh(true_cov, cov)\n",
    "    return np.sqrt(np.max(eigs) / np.min(eigs))"
   ]
  },
  {
   "cell_type": "code",
   "execution_count": 21,
   "metadata": {},
   "outputs": [
    {
     "name": "stdout",
     "output_type": "stream",
     "text": [
      "191.46394040754484\n",
      "109.2453105957265\n",
      "35.638029922273596\n",
      "29.38728137984108\n"
     ]
    }
   ],
   "source": [
    "print(condition_number(np.eye(ndim), true_cov))\n",
    "print(condition_number(np.diag(stds ** 2), true_cov))\n",
    "print(condition_number(cov_lw, true_cov))\n",
    "print(condition_number(approx_cov, true_cov))"
   ]
  },
  {
   "cell_type": "markdown",
   "metadata": {},
   "source": [
    "What eigenvalues are left in the posterior if we use a particular mass matrix?"
   ]
  },
  {
   "cell_type": "code",
   "execution_count": 22,
   "metadata": {},
   "outputs": [
    {
     "data": {
      "image/png": "[encoded data removed]",
      "text/plain": [
       "<Figure size 432x288 with 1 Axes>"
      ]
     },
     "metadata": {
      "needs_background": "light"
     },
     "output_type": "display_data"
    }
   ],
   "source": [
    "plt.plot(np.log(linalg.eigvalsh(true_cov, np.diag(stds ** 2))), label='diagonal')\n",
    "plt.plot(np.log(linalg.eigvalsh(true_cov, cov_lw)), label='ledoit-wolf')\n",
    "plt.plot(np.log(linalg.eigvalsh(true_cov, approx_cov)), label='subspace eigals')\n",
    "plt.legend();"
   ]
  },
  {
   "cell_type": "code",
   "execution_count": null,
   "metadata": {},
   "outputs": [],
   "source": []
  }
 ],
 "metadata": {
  "kernelspec": {
   "display_name": "Python (pymc)",
   "language": "python",
   "name": "pymc"
  },
  "language_info": {
   "codemirror_mode": {
    "name": "ipython",
    "version": 3
   },
   "file_extension": ".py",
   "mimetype": "text/x-python",
   "name": "python",
   "nbconvert_exporter": "python",
   "pygments_lexer": "ipython3",
   "version": "3.7.3"
  }
 },
 "nbformat": 4,
 "nbformat_minor": 4
}
